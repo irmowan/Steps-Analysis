{
 "cells": [
  {
   "cell_type": "code",
   "execution_count": 21,
   "metadata": {
    "collapsed": false
   },
   "outputs": [
    {
     "name": "stdout",
     "output_type": "stream",
     "text": [
      "[[0 , 0 , 320 ],[0 , 1 , 86 ],[0 , 2 , 13 ],[0 , 3 , 16 ],[0 , 4 , 8 ],[0 , 5 , 0 ],[0 , 6 , 66 ],[0 , 7 , 70 ],[0 , 8 , 116 ],[0 , 9 , 159 ],[0 , 10 , 392 ],[0 , 11 , 408 ],[0 , 12 , 708 ],[0 , 13 , 687 ],[0 , 14 , 517 ],[0 , 15 , 433 ],[0 , 16 , 486 ],[0 , 17 , 750 ],[0 , 18 , 697 ],[0 , 19 , 450 ],[0 , 20 , 276 ],[0 , 21 , 595 ],[0 , 22 , 532 ],[0 , 23 , 144 ],[1 , 0 , 225 ],[1 , 1 , 46 ],[1 , 2 , 29 ],[1 , 3 , 0 ],[1 , 4 , 0 ],[1 , 5 , 28 ],[1 , 6 , 42 ],[1 , 7 , 40 ],[1 , 8 , 195 ],[1 , 9 , 444 ],[1 , 10 , 300 ],[1 , 11 , 478 ],[1 , 12 , 780 ],[1 , 13 , 724 ],[1 , 14 , 341 ],[1 , 15 , 690 ],[1 , 16 , 681 ],[1 , 17 , 940 ],[1 , 18 , 920 ],[1 , 19 , 517 ],[1 , 20 , 794 ],[1 , 21 , 659 ],[1 , 22 , 274 ],[1 , 23 , 160 ],[2 , 0 , 180 ],[2 , 1 , 99 ],[2 , 2 , 0 ],[2 , 3 , 25 ],[2 , 4 , 35 ],[2 , 5 , 32 ],[2 , 6 , 36 ],[2 , 7 , 114 ],[2 , 8 , 347 ],[2 , 9 , 656 ],[2 , 10 , 265 ],[2 , 11 , 465 ],[2 , 12 , 892 ],[2 , 13 , 571 ],[2 , 14 , 291 ],[2 , 15 , 338 ],[2 , 16 , 793 ],[2 , 17 , 764 ],[2 , 18 , 688 ],[2 , 19 , 341 ],[2 , 20 , 468 ],[2 , 21 , 503 ],[2 , 22 , 532 ],[2 , 23 , 381 ],[3 , 0 , 148 ],[3 , 1 , 43 ],[3 , 2 , 36 ],[3 , 3 , 0 ],[3 , 4 , 0 ],[3 , 5 , 0 ],[3 , 6 , 0 ],[3 , 7 , 17 ],[3 , 8 , 391 ],[3 , 9 , 519 ],[3 , 10 , 433 ],[3 , 11 , 607 ],[3 , 12 , 969 ],[3 , 13 , 646 ],[3 , 14 , 231 ],[3 , 15 , 375 ],[3 , 16 , 872 ],[3 , 17 , 879 ],[3 , 18 , 712 ],[3 , 19 , 333 ],[3 , 20 , 313 ],[3 , 21 , 320 ],[3 , 22 , 409 ],[3 , 23 , 406 ],[4 , 0 , 110 ],[4 , 1 , 15 ],[4 , 2 , 24 ],[4 , 3 , 0 ],[4 , 4 , 0 ],[4 , 5 , 0 ],[4 , 6 , 11 ],[4 , 7 , 32 ],[4 , 8 , 758 ],[4 , 9 , 773 ],[4 , 10 , 283 ],[4 , 11 , 560 ],[4 , 12 , 902 ],[4 , 13 , 676 ],[4 , 14 , 171 ],[4 , 15 , 462 ],[4 , 16 , 422 ],[4 , 17 , 777 ],[4 , 18 , 672 ],[4 , 19 , 350 ],[4 , 20 , 557 ],[4 , 21 , 582 ],[4 , 22 , 598 ],[4 , 23 , 85 ],[5 , 0 , 191 ],[5 , 1 , 36 ],[5 , 2 , 49 ],[5 , 3 , 0 ],[5 , 4 , 0 ],[5 , 5 , 0 ],[5 , 6 , 0 ],[5 , 7 , 46 ],[5 , 8 , 335 ],[5 , 9 , 373 ],[5 , 10 , 388 ],[5 , 11 , 614 ],[5 , 12 , 834 ],[5 , 13 , 590 ],[5 , 14 , 301 ],[5 , 15 , 278 ],[5 , 16 , 532 ],[5 , 17 , 833 ],[5 , 18 , 772 ],[5 , 19 , 318 ],[5 , 20 , 662 ],[5 , 21 , 647 ],[5 , 22 , 355 ],[5 , 23 , 156 ],[6 , 0 , 124 ],[6 , 1 , 120 ],[6 , 2 , 18 ],[6 , 3 , 4 ],[6 , 4 , 0 ],[6 , 5 , 0 ],[6 , 6 , 44 ],[6 , 7 , 24 ],[6 , 8 , 161 ],[6 , 9 , 246 ],[6 , 10 , 587 ],[6 , 11 , 765 ],[6 , 12 , 790 ],[6 , 13 , 480 ],[6 , 14 , 655 ],[6 , 15 , 441 ],[6 , 16 , 393 ],[6 , 17 , 650 ],[6 , 18 , 897 ],[6 , 19 , 440 ],[6 , 20 , 451 ],[6 , 21 , 536 ],[6 , 22 , 419 ],[6 , 23 , 176 ],]\n"
     ]
    }
   ],
   "source": [
    "# 计算PunchCard各单元数据\n",
    "import xml.etree.ElementTree as ET\n",
    "import time\n",
    "fileName = \"data.xml\"\n",
    "\n",
    "tree = ET.parse(fileName)\n",
    "root = tree.getroot()\n",
    "\n",
    "results = tree.findall('Record')\n",
    "s = [[0 for col in range(24)] for raw in range(7)]\n",
    "for record in results:\n",
    "    if record.get(\"type\") != \"HKQuantityTypeIdentifierStepCount\": \n",
    "        continue\n",
    "    t = time.strptime(record.get(\"creationDate\"),\"%Y-%m-%d %H:%M:%S %z\")\n",
    "    wday, hour = t.tm_wday, t.tm_hour\n",
    "    v = int(record.get('value'))\n",
    "    s[wday][hour]+=v\n",
    "print('[',end='')\n",
    "for i in range(7):\n",
    "    for j in range(24):\n",
    "        print('[', end='')\n",
    "        d = (5 - i) % 7\n",
    "        # 这里400是数据涵盖的天数，目的是求均值\n",
    "        print(i,',',j,',',int(s[d][j] / (400 / 7)),']',end='')\n",
    "        print(',', end='')\n",
    "print(']')\n",
    "        "
   ]
  },
  {
   "cell_type": "code",
   "execution_count": 15,
   "metadata": {
    "collapsed": false
   },
   "outputs": [
    {
     "name": "stdout",
     "output_type": "stream",
     "text": [
      "[310689, 346670, 261315, 321501, 279737, 235670, 208599, 208371, 234276, 310419, 170064, 307820]\n",
      "[211.5, 229.0, 171.47, 226.28, 206.12, 175.14, 159.6, 158.72, 167.5, 251.98, 133.87, 229.44]\n"
     ]
    }
   ],
   "source": [
    "# 计算柱状图数据\n",
    "import xml.etree.ElementTree as ET\n",
    "import time\n",
    "fileName = \"data.xml\"\n",
    "\n",
    "tree = ET.parse(fileName)\n",
    "root = tree.getroot()\n",
    "\n",
    "results = tree.findall('Record')\n",
    "step = [0 for raw in range(12)]\n",
    "distance = [0.0 for raw in range(12)]\n",
    "\n",
    "def test(t):\n",
    "    if t.tm_year == 2015 and t.tm_mon >= 4:return True\n",
    "    if t.tm_year == 2016 and t.tm_mon <= 3:return True\n",
    "    return False\n",
    "\n",
    "for record in results:\n",
    "    if record.get(\"type\") == \"HKQuantityTypeIdentifierStepCount\": \n",
    "        t = time.strptime(record.get(\"creationDate\"),\"%Y-%m-%d %H:%M:%S %z\")\n",
    "        if (test(t)):\n",
    "            step[t.tm_mon-1] += int(record.get(\"value\"));\n",
    "    if record.get(\"type\") == \"HKQuantityTypeIdentifierDistanceWalkingRunning\":\n",
    "        t = time.strptime(record.get(\"creationDate\"),\"%Y-%m-%d %H:%M:%S %z\")\n",
    "        if (test(t)):\n",
    "            distance[t.tm_mon-1] += float(record.get(\"value\"));\n",
    "            \n",
    "distance = [round(x, 2) for x in distance]\n",
    "print(step[3:12] + step[0:3])\n",
    "print(distance[3:12] + distance[0:3])  "
   ]
  },
  {
   "cell_type": "code",
   "execution_count": 20,
   "metadata": {
    "collapsed": false
   },
   "outputs": [
    {
     "name": "stdout",
     "output_type": "stream",
     "text": [
      "400\n"
     ]
    }
   ],
   "source": [
    "# 计算数据涵盖的天数\n",
    "import time\n",
    "t1 = time.strptime('2016-03-31','%Y-%m-%d')\n",
    "t2 = time.strptime('2015-02-25','%Y-%m-%d')\n",
    "print(t1.tm_yday + (365 - t2.tm_yday))"
   ]
  },
  {
   "cell_type": "code",
   "execution_count": 1,
   "metadata": {
    "collapsed": false
   },
   "outputs": [],
   "source": [
    "# 将标准顺序改为周六反向到周日，方便产生数据\n",
    "for i in range(7):\n",
    "    d = (5-i) % 7;"
   ]
  },
  {
   "cell_type": "code",
   "execution_count": 11,
   "metadata": {
    "collapsed": false
   },
   "outputs": [
    {
     "name": "stdout",
     "output_type": "stream",
     "text": [
      "time.struct_time(tm_year=2016, tm_mon=4, tm_mday=4, tm_hour=0, tm_min=14, tm_sec=17, tm_wday=0, tm_yday=95, tm_isdst=-1)\n",
      "0 0\n"
     ]
    }
   ],
   "source": [
    "# 测试日期\n",
    "import time, datetime\n",
    "x = \"2016-04-04 00:14:17 +0800\"\n",
    "t = time.strptime(x,\"%Y-%m-%d %H:%M:%S %z\")\n",
    "print(t)\n",
    "print(t.tm_wday,t.tm_hour)"
   ]
  }
 ],
 "metadata": {
  "kernelspec": {
   "display_name": "Python 3",
   "language": "python",
   "name": "python3"
  },
  "language_info": {
   "codemirror_mode": {
    "name": "ipython",
    "version": 3
   },
   "file_extension": ".py",
   "mimetype": "text/x-python",
   "name": "python",
   "nbconvert_exporter": "python",
   "pygments_lexer": "ipython3",
   "version": "3.4.0"
  }
 },
 "nbformat": 4,
 "nbformat_minor": 0
}
